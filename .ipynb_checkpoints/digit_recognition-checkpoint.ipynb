{
 "cells": [
  {
   "cell_type": "code",
   "execution_count": 1,
   "metadata": {},
   "outputs": [],
   "source": [
    "import tensorflow as tf\n",
    "import numpy as np\n",
    "from datetime import datetime\n",
    "import matplotlib.pyplot as plt\n",
    "from utils import *\n",
    "\n",
    "%load_ext autoreload\n",
    "%autoreload 2\n",
    "    \n",
    "MODEL_PATH = \"models/recognition/\""
   ]
  },
  {
   "cell_type": "code",
   "execution_count": 2,
   "metadata": {},
   "outputs": [],
   "source": [
    "height = 28\n",
    "width = 28\n",
    "channels = 1\n",
    "n_inputs = height * width"
   ]
  },
  {
   "cell_type": "code",
   "execution_count": 3,
   "metadata": {},
   "outputs": [],
   "source": [
    "(X_train, y_train), (X_test, y_test) = tf.keras.datasets.mnist.load_data()\n",
    "X_train = X_train.astype(np.float32).reshape(-1, n_inputs) / 255.0\n",
    "X_test = X_test.astype(np.float32).reshape(-1, n_inputs) / 255.0\n",
    "y_train = y_train.astype(np.int32)\n",
    "y_test = y_test.astype(np.int32)\n",
    "nb_samples_taken = 1000\n",
    "X_train = X_train[:nb_samples_taken]\n",
    "y_train = y_train[:nb_samples_taken]"
   ]
  },
  {
   "cell_type": "code",
   "execution_count": 4,
   "metadata": {},
   "outputs": [
    {
     "name": "stderr",
     "output_type": "stream",
     "text": [
      "WARNING: Logging before flag parsing goes to stderr.\n",
      "W0731 16:50:43.692197 22628 deprecation.py:323] From <ipython-input-4-1dfb8bc8d9fb>:25: conv2d (from tensorflow.python.layers.convolutional) is deprecated and will be removed in a future version.\n",
      "Instructions for updating:\n",
      "Use `tf.keras.layers.Conv2D` instead.\n",
      "W0731 16:50:43.692197 22628 deprecation.py:506] From C:\\Users\\antho\\Anaconda3\\lib\\site-packages\\tensorflow\\python\\ops\\init_ops.py:1251: calling VarianceScaling.__init__ (from tensorflow.python.ops.init_ops) with dtype is deprecated and will be removed in a future version.\n",
      "Instructions for updating:\n",
      "Call initializer instance with the dtype argument instead of passing it to the constructor\n",
      "W0731 16:50:44.083690 22628 deprecation.py:323] From <ipython-input-4-1dfb8bc8d9fb>:38: dense (from tensorflow.python.layers.core) is deprecated and will be removed in a future version.\n",
      "Instructions for updating:\n",
      "Use keras.layers.dense instead.\n"
     ]
    }
   ],
   "source": [
    "conv1_fmaps = 32\n",
    "conv1_ksize = 3\n",
    "conv1_stride = 1\n",
    "\n",
    "conv2_fmaps = 64\n",
    "conv2_ksize = 3\n",
    "conv2_stride = 2\n",
    "\n",
    "conv3_fmaps = 128\n",
    "conv3_ksize = 3\n",
    "conv3_stride = 2\n",
    "\n",
    "pool3_fmaps = conv3_fmaps\n",
    "\n",
    "n_fc1 = 128\n",
    "n_outputs = 10\n",
    "\n",
    "with tf.name_scope(\"inputs\"):\n",
    "    X = tf.placeholder(tf.float32, shape=[None, n_inputs], name=\"X\")\n",
    "    X_reshaped = tf.reshape(X, shape=[-1, height, width, channels])\n",
    "    y = tf.placeholder(tf.int32, shape=[None], name=\"y\")\n",
    "\n",
    "conv1 = tf.layers.conv2d(X_reshaped, filters=conv1_fmaps, kernel_size=conv1_ksize,\n",
    "                         strides=conv1_stride, padding=\"SAME\",\n",
    "                         activation=tf.nn.relu, name=\"conv1\")\n",
    "conv2 = tf.layers.conv2d(conv1, filters=conv2_fmaps, kernel_size=conv2_ksize,\n",
    "                         strides=conv2_stride, padding=\"SAME\",\n",
    "                         activation=tf.nn.relu, name=\"conv2\")\n",
    "conv3 = tf.layers.conv2d(conv2, filters=conv3_fmaps, kernel_size=conv3_ksize,\n",
    "                         strides=conv3_stride, padding=\"SAME\",\n",
    "                         activation=tf.nn.relu, name=\"conv3\")\n",
    "\n",
    "with tf.name_scope(\"pool3\"):\n",
    "    pool3 = tf.nn.max_pool(conv3, ksize=[1, 2, 2, 1], strides=[1, 2, 2, 1], padding=\"VALID\")\n",
    "    pool3_flat = tf.reshape(pool3, shape=[-1, pool3_fmaps * 3 * 3])\n",
    "\n",
    "with tf.name_scope(\"fc1\"):\n",
    "    fc1 = tf.layers.dense(pool3_flat, n_fc1, activation=tf.nn.relu, name=\"fc1\")\n",
    "\n",
    "with tf.name_scope(\"output\"):\n",
    "    logits = tf.layers.dense(fc1, n_outputs, name=\"output\")\n",
    "    Y_proba = tf.nn.softmax(logits, name=\"Y_proba\")\n",
    "\n",
    "with tf.name_scope(\"train\"):\n",
    "    xentropy = tf.nn.sparse_softmax_cross_entropy_with_logits(logits=logits, labels=y)\n",
    "    loss = tf.reduce_mean(xentropy)\n",
    "    loss_ = tf.summary.scalar('loss', loss)\n",
    "    optimizer = tf.train.AdamOptimizer()\n",
    "    training_op = optimizer.minimize(loss)\n",
    "\n",
    "with tf.name_scope(\"eval\"):\n",
    "    correct = tf.nn.in_top_k(logits, y, 1)\n",
    "    accuracy_train = tf.reduce_mean(tf.cast(correct, tf.float32))\n",
    "    accuracy_test = tf.reduce_mean(tf.cast(correct, tf.float32))\n",
    "    \n",
    "    accuracy_train_ = tf.summary.scalar('accuracy_train', accuracy_train)\n",
    "    accuracy_test_ = tf.summary.scalar('accuracy_test', accuracy_test)\n",
    "\n",
    "with tf.name_scope(\"init_and_save\"):\n",
    "    init = tf.global_variables_initializer()\n",
    "    saver = tf.train.Saver()"
   ]
  },
  {
   "cell_type": "code",
   "execution_count": 5,
   "metadata": {},
   "outputs": [
    {
     "name": "stdout",
     "output_type": "stream",
     "text": [
      "0 Last batch accuracy: 0.67 Test accuracy: 0.5866\n",
      "1 Last batch accuracy: 0.77 Test accuracy: 0.7573\n",
      "2 Last batch accuracy: 0.88 Test accuracy: 0.8325\n",
      "3 Last batch accuracy: 0.88 Test accuracy: 0.8722\n",
      "4 Last batch accuracy: 0.91 Test accuracy: 0.8758\n",
      "5 Last batch accuracy: 0.92 Test accuracy: 0.9081\n",
      "6 Last batch accuracy: 0.98 Test accuracy: 0.9014\n",
      "7 Last batch accuracy: 0.97 Test accuracy: 0.9226\n",
      "8 Last batch accuracy: 0.97 Test accuracy: 0.9126\n",
      "9 Last batch accuracy: 0.97 Test accuracy: 0.9188\n"
     ]
    }
   ],
   "source": [
    "n_epochs = 10\n",
    "batch_size = 100\n",
    "\n",
    "now = datetime.now()\n",
    "logdir = \"tf_logs/\" + now.strftime(\"3_conv_layers_%Y%m%d-%H%M%S\") + \"/\"\n",
    "\n",
    "with tf.Session() as sess:\n",
    "    merged = tf.summary.merge([accuracy_train_,loss_])\n",
    "    tf_tensorboard_writer = tf.summary.FileWriter('./'+logdir, sess.graph)    \n",
    "    init.run()\n",
    "    for epoch in range(n_epochs):\n",
    "        for X_batch, y_batch in shuffle_batch(X_train, y_train, batch_size):\n",
    "            sess.run(training_op, feed_dict={X: X_batch, y: y_batch})       \n",
    "        print(epoch, \"Last batch accuracy:\", accuracy_train.eval(feed_dict={X: X_batch, y: y_batch}), \"Test accuracy:\", accuracy_test.eval(feed_dict={X: X_test, y: y_test}))\n",
    "        \n",
    "        summary_str = sess.run(merged, feed_dict={X: X_batch, y: y_batch})\n",
    "        test_summary_str = sess.run(accuracy_test_, feed_dict={X: X_test, y: y_test})\n",
    "        tf_tensorboard_writer.add_summary(summary_str, epoch) \n",
    "        tf_tensorboard_writer.add_summary(test_summary_str, epoch) \n",
    "        save_path = saver.save(sess, MODEL_PATH + \"model3conv\")\n",
    "        \n",
    "tf_tensorboard_writer.close()\n"
   ]
  },
  {
   "cell_type": "markdown",
   "metadata": {},
   "source": [
    "# Testing rotation and zoom"
   ]
  },
  {
   "cell_type": "code",
   "execution_count": 6,
   "metadata": {},
   "outputs": [
    {
     "data": {
      "text/plain": [
       "<Figure size 576x3600 with 0 Axes>"
      ]
     },
     "metadata": {},
     "output_type": "display_data"
    }
   ],
   "source": [
    "samples_to_show = 5\n",
    "plt.figure(figsize=(8,50)) # not shown in the book\n",
    "X_reshaped = tf.reshape(X_train, shape=[-1, height, width, channels])\n",
    "with tf.Session() as sess:\n",
    "    X_reshaped = X_reshaped.eval()"
   ]
  },
  {
   "cell_type": "markdown",
   "metadata": {},
   "source": [
    "### Original images"
   ]
  },
  {
   "cell_type": "code",
   "execution_count": 7,
   "metadata": {},
   "outputs": [
    {
     "data": {
      "image/png": "[encoded data removed]",
      "text/plain": [
       "<Figure size 432x288 with 5 Axes>"
      ]
     },
     "metadata": {
      "needs_background": "light"
     },
     "output_type": "display_data"
    }
   ],
   "source": [
    "for iteration in range(samples_to_show):\n",
    "    plt.subplot(samples_to_show, 10, iteration + 1)\n",
    "    plot_image(X_reshaped[iteration])"
   ]
  },
  {
   "cell_type": "markdown",
   "metadata": {},
   "source": [
    "### Rotation"
   ]
  },
  {
   "cell_type": "code",
   "execution_count": 8,
   "metadata": {},
   "outputs": [
    {
     "data": {
      "image/png": "[encoded data removed]",
      "text/plain": [
       "<Figure size 432x288 with 5 Axes>"
      ]
     },
     "metadata": {
      "needs_background": "light"
     },
     "output_type": "display_data"
    }
   ],
   "source": [
    "from scipy.ndimage import rotate\n",
    "degrees = 10\n",
    "for iteration in range(samples_to_show):\n",
    "    plt.subplot(samples_to_show, degrees, iteration + 1)\n",
    "    plot_image(rotate(X_reshaped[iteration], 20, reshape=False))"
   ]
  },
  {
   "cell_type": "markdown",
   "metadata": {},
   "source": [
    "### Zoom"
   ]
  },
  {
   "cell_type": "code",
   "execution_count": 9,
   "metadata": {},
   "outputs": [
    {
     "data": {
      "image/png": "[encoded data removed]",
      "text/plain": [
       "<Figure size 432x288 with 5 Axes>"
      ]
     },
     "metadata": {
      "needs_background": "light"
     },
     "output_type": "display_data"
    }
   ],
   "source": [
    "for iteration in range(samples_to_show):\n",
    "    plt.subplot(samples_to_show, 10, iteration + 1)\n",
    "    plot_image(clipped_zoom(X_reshaped[iteration], 0.8))"
   ]
  },
  {
   "cell_type": "markdown",
   "metadata": {},
   "source": [
    "# Increasing dataset"
   ]
  },
  {
   "cell_type": "code",
   "execution_count": 10,
   "metadata": {},
   "outputs": [],
   "source": [
    "X_train_zoom = X_reshaped.copy()\n",
    "X_train_rotate1 = X_reshaped.copy()\n",
    "X_train_rotate2 = X_reshaped.copy()"
   ]
  },
  {
   "cell_type": "code",
   "execution_count": 11,
   "metadata": {},
   "outputs": [],
   "source": [
    "for iteration in range(nb_samples_taken):\n",
    "    X_train_zoom[iteration] = clipped_zoom(X_train_zoom[iteration], 0.8)"
   ]
  },
  {
   "cell_type": "code",
   "execution_count": 12,
   "metadata": {},
   "outputs": [],
   "source": [
    "for iteration in range(nb_samples_taken):\n",
    "    X_train_rotate1[iteration] = rotate(X_train_rotate1[iteration], 12, reshape=False)    \n",
    "    X_train_rotate2[iteration] = rotate(X_train_rotate2[iteration], -12, reshape=False)"
   ]
  },
  {
   "cell_type": "code",
   "execution_count": 13,
   "metadata": {},
   "outputs": [
    {
     "data": {
      "text/plain": [
       "(4000, 784)"
      ]
     },
     "execution_count": 13,
     "metadata": {},
     "output_type": "execute_result"
    }
   ],
   "source": [
    "X_train_artificially_increased = np.concatenate((X_reshaped, X_train_zoom,X_train_rotate1,X_train_rotate2), axis=0)\n",
    "X_train_artificially_increased = X_train_artificially_increased.astype(np.float32).reshape(-1, n_inputs)\n",
    "X_train_artificially_increased.shape"
   ]
  },
  {
   "cell_type": "code",
   "execution_count": 14,
   "metadata": {},
   "outputs": [
    {
     "data": {
      "text/plain": [
       "(4000,)"
      ]
     },
     "execution_count": 14,
     "metadata": {},
     "output_type": "execute_result"
    }
   ],
   "source": [
    "y_train_artificially_increased = np.concatenate((y_train,y_train,y_train,y_train), axis=0)\n",
    "y_train_artificially_increased.shape"
   ]
  },
  {
   "cell_type": "markdown",
   "metadata": {},
   "source": [
    "# Training model with dataset artificially_increased"
   ]
  },
  {
   "cell_type": "code",
   "execution_count": 16,
   "metadata": {},
   "outputs": [
    {
     "name": "stdout",
     "output_type": "stream",
     "text": [
      "0 Last batch accuracy: 0.83 Test accuracy: 0.8443\n",
      "1 Last batch accuracy: 0.9 Test accuracy: 0.924\n",
      "2 Last batch accuracy: 0.95 Test accuracy: 0.9351\n",
      "3 Last batch accuracy: 0.97 Test accuracy: 0.9331\n",
      "4 Last batch accuracy: 0.96 Test accuracy: 0.9448\n",
      "5 Last batch accuracy: 0.99 Test accuracy: 0.9459\n",
      "6 Last batch accuracy: 1.0 Test accuracy: 0.9441\n",
      "7 Last batch accuracy: 1.0 Test accuracy: 0.9479\n",
      "8 Last batch accuracy: 1.0 Test accuracy: 0.9525\n",
      "9 Last batch accuracy: 1.0 Test accuracy: 0.9544\n"
     ]
    }
   ],
   "source": [
    "n_epochs = 10\n",
    "batch_size = 100\n",
    "\n",
    "now = datetime.now()\n",
    "logdir = \"tf_logs/\" + now.strftime(\"3_conv_layers_dataset_increased_%Y%m%d-%H%M%S\") + \"/\"\n",
    "\n",
    "with tf.Session() as sess:\n",
    "    merged = tf.summary.merge([accuracy_train_,loss_])\n",
    "    tf_tensorboard_writer = tf.summary.FileWriter('./'+logdir, sess.graph)\n",
    "    init.run()\n",
    "    for epoch in range(n_epochs):\n",
    "        for X_batch, y_batch in shuffle_batch(X_train_artificially_increased, y_train_artificially_increased, batch_size):\n",
    "            sess.run(training_op, feed_dict={X: X_batch, y: y_batch})       \n",
    "        print(epoch, \"Last batch accuracy:\", accuracy_train.eval(feed_dict={X: X_batch, y: y_batch}), \"Test accuracy:\", accuracy_test.eval(feed_dict={X: X_test, y: y_test}))\n",
    "        \n",
    "        summary_str = sess.run(merged, feed_dict={X: X_batch, y: y_batch})\n",
    "        test_summary_str = sess.run(accuracy_test_, feed_dict={X: X_test, y: y_test})\n",
    "        tf_tensorboard_writer.add_summary(summary_str, epoch) \n",
    "        tf_tensorboard_writer.add_summary(test_summary_str, epoch) \n",
    "        save_path = saver.save(sess, MODEL_PATH + \"with_dataset_artificially_increased/model3conv\")\n",
    "        \n",
    "tf_tensorboard_writer.close()"
   ]
  },
  {
   "cell_type": "code",
   "execution_count": null,
   "metadata": {},
   "outputs": [],
   "source": []
  }
 ],
 "metadata": {
  "kernelspec": {
   "display_name": "Python 3",
   "language": "python",
   "name": "python3"
  },
  "language_info": {
   "codemirror_mode": {
    "name": "ipython",
    "version": 3
   },
   "file_extension": ".py",
   "mimetype": "text/x-python",
   "name": "python",
   "nbconvert_exporter": "python",
   "pygments_lexer": "ipython3",
   "version": "3.7.3"
  }
 },
 "nbformat": 4,
 "nbformat_minor": 2
}
