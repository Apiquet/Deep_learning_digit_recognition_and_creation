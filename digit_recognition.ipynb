{
 "cells": [
  {
   "cell_type": "code",
   "execution_count": 1,
   "metadata": {},
   "outputs": [],
   "source": [
    "import tensorflow as tf\n",
    "import numpy as np\n",
    "from datetime import datetime\n",
    "import matplotlib.pyplot as plt\n",
    "\n",
    "MODEL_PATH = \"models/recognition/\""
   ]
  },
  {
   "cell_type": "code",
   "execution_count": 2,
   "metadata": {},
   "outputs": [],
   "source": [
    "height = 28\n",
    "width = 28\n",
    "channels = 1\n",
    "n_inputs = height * width"
   ]
  },
  {
   "cell_type": "code",
   "execution_count": 3,
   "metadata": {},
   "outputs": [],
   "source": [
    "(X_train, y_train), (X_test, y_test) = tf.keras.datasets.mnist.load_data()\n",
    "X_train = X_train.astype(np.float32).reshape(-1, n_inputs) / 255.0\n",
    "X_test = X_test.astype(np.float32).reshape(-1, n_inputs) / 255.0\n",
    "y_train = y_train.astype(np.int32)\n",
    "y_test = y_test.astype(np.int32)\n",
    "nb_samples_taken = 2000\n",
    "X_train = X_train[:nb_samples_taken]\n",
    "y_train = y_train[:nb_samples_taken]"
   ]
  },
  {
   "cell_type": "code",
   "execution_count": 5,
   "metadata": {},
   "outputs": [
    {
     "name": "stderr",
     "output_type": "stream",
     "text": [
      "WARNING: Logging before flag parsing goes to stderr.\n",
      "W0730 14:34:15.538490  5988 deprecation.py:323] From <ipython-input-5-e27571fbe597>:25: conv2d (from tensorflow.python.layers.convolutional) is deprecated and will be removed in a future version.\n",
      "Instructions for updating:\n",
      "Use `tf.keras.layers.Conv2D` instead.\n",
      "W0730 14:34:15.545507  5988 deprecation.py:506] From C:\\Users\\antho\\Anaconda3\\lib\\site-packages\\tensorflow\\python\\ops\\init_ops.py:1251: calling VarianceScaling.__init__ (from tensorflow.python.ops.init_ops) with dtype is deprecated and will be removed in a future version.\n",
      "Instructions for updating:\n",
      "Call initializer instance with the dtype argument instead of passing it to the constructor\n",
      "W0730 14:34:15.882807  5988 deprecation.py:323] From <ipython-input-5-e27571fbe597>:38: dense (from tensorflow.python.layers.core) is deprecated and will be removed in a future version.\n",
      "Instructions for updating:\n",
      "Use keras.layers.dense instead.\n"
     ]
    }
   ],
   "source": [
    "conv1_fmaps = 32\n",
    "conv1_ksize = 3\n",
    "conv1_stride = 1\n",
    "\n",
    "conv2_fmaps = 64\n",
    "conv2_ksize = 3\n",
    "conv2_stride = 2\n",
    "\n",
    "conv3_fmaps = 128\n",
    "conv3_ksize = 3\n",
    "conv3_stride = 2\n",
    "\n",
    "pool3_fmaps = conv3_fmaps\n",
    "\n",
    "n_fc1 = 128\n",
    "n_outputs = 10\n",
    "\n",
    "with tf.name_scope(\"inputs\"):\n",
    "    X = tf.placeholder(tf.float32, shape=[None, n_inputs], name=\"X\")\n",
    "    X_reshaped = tf.reshape(X, shape=[-1, height, width, channels])\n",
    "    y = tf.placeholder(tf.int32, shape=[None], name=\"y\")\n",
    "\n",
    "conv1 = tf.layers.conv2d(X_reshaped, filters=conv1_fmaps, kernel_size=conv1_ksize,\n",
    "                         strides=conv1_stride, padding=\"SAME\",\n",
    "                         activation=tf.nn.relu, name=\"conv1\")\n",
    "conv2 = tf.layers.conv2d(conv1, filters=conv2_fmaps, kernel_size=conv2_ksize,\n",
    "                         strides=conv2_stride, padding=\"SAME\",\n",
    "                         activation=tf.nn.relu, name=\"conv2\")\n",
    "conv3 = tf.layers.conv2d(conv2, filters=conv3_fmaps, kernel_size=conv3_ksize,\n",
    "                         strides=conv3_stride, padding=\"SAME\",\n",
    "                         activation=tf.nn.relu, name=\"conv3\")\n",
    "\n",
    "with tf.name_scope(\"pool3\"):\n",
    "    pool3 = tf.nn.max_pool(conv3, ksize=[1, 2, 2, 1], strides=[1, 2, 2, 1], padding=\"VALID\")\n",
    "    pool3_flat = tf.reshape(pool3, shape=[-1, pool3_fmaps * 3 * 3])\n",
    "\n",
    "with tf.name_scope(\"fc1\"):\n",
    "    fc1 = tf.layers.dense(pool3_flat, n_fc1, activation=tf.nn.relu, name=\"fc1\")\n",
    "\n",
    "with tf.name_scope(\"output\"):\n",
    "    logits = tf.layers.dense(fc1, n_outputs, name=\"output\")\n",
    "    Y_proba = tf.nn.softmax(logits, name=\"Y_proba\")\n",
    "\n",
    "with tf.name_scope(\"train\"):\n",
    "    xentropy = tf.nn.sparse_softmax_cross_entropy_with_logits(logits=logits, labels=y)\n",
    "    loss = tf.reduce_mean(xentropy)\n",
    "    tf.summary.scalar('loss', loss)\n",
    "    optimizer = tf.train.AdamOptimizer()\n",
    "    training_op = optimizer.minimize(loss)\n",
    "\n",
    "with tf.name_scope(\"eval\"):\n",
    "    correct = tf.nn.in_top_k(logits, y, 1)\n",
    "    accuracy_train = tf.reduce_mean(tf.cast(correct, tf.float32))\n",
    "    accuracy_test = tf.reduce_mean(tf.cast(correct, tf.float32))\n",
    "    \n",
    "    tf.summary.scalar('accuracy_train', accuracy_train)\n",
    "    tf.summary.scalar('accuracy_test', accuracy_test)\n",
    "\n",
    "with tf.name_scope(\"init_and_save\"):\n",
    "    init = tf.global_variables_initializer()\n",
    "    saver = tf.train.Saver()"
   ]
  },
  {
   "cell_type": "code",
   "execution_count": 6,
   "metadata": {},
   "outputs": [],
   "source": [
    "def shuffle_batch(X, y, batch_size):\n",
    "    rnd_idx = np.random.permutation(len(X))\n",
    "    n_batches = len(X) // batch_size\n",
    "    for batch_idx in np.array_split(rnd_idx, n_batches):\n",
    "        X_batch, y_batch = X[batch_idx], y[batch_idx]\n",
    "        yield X_batch, y_batch"
   ]
  },
  {
   "cell_type": "code",
   "execution_count": 8,
   "metadata": {},
   "outputs": [
    {
     "name": "stdout",
     "output_type": "stream",
     "text": [
      "0 Last batch accuracy: 0.74 Test accuracy: 0.7167\n",
      "1 Last batch accuracy: 0.85 Test accuracy: 0.8679\n",
      "2 Last batch accuracy: 0.93 Test accuracy: 0.8962\n",
      "3 Last batch accuracy: 0.98 Test accuracy: 0.9305\n",
      "4 Last batch accuracy: 0.95 Test accuracy: 0.9357\n",
      "5 Last batch accuracy: 0.97 Test accuracy: 0.9462\n",
      "6 Last batch accuracy: 0.98 Test accuracy: 0.9467\n",
      "7 Last batch accuracy: 1.0 Test accuracy: 0.9417\n",
      "8 Last batch accuracy: 1.0 Test accuracy: 0.9356\n",
      "9 Last batch accuracy: 1.0 Test accuracy: 0.9469\n"
     ]
    }
   ],
   "source": [
    "n_epochs = 10\n",
    "batch_size = 100\n",
    "\n",
    "now = datetime.now()\n",
    "logdir = \"tf_logs/\" + now.strftime(\"%Y%m%d-%H%M%S\") + \"/\"\n",
    "\n",
    "with tf.Session() as sess:\n",
    "    merged = tf.summary.merge_all()\n",
    "    tf_tensorboard_writer = tf.summary.FileWriter('./'+logdir, sess.graph)\n",
    "    init.run()\n",
    "    for epoch in range(n_epochs):\n",
    "        for X_batch, y_batch in shuffle_batch(X_train, y_train, batch_size):\n",
    "            sess.run(training_op, feed_dict={X: X_batch, y: y_batch})       \n",
    "        print(epoch, \"Last batch accuracy:\", accuracy_train.eval(feed_dict={X: X_batch, y: y_batch}), \"Test accuracy:\", accuracy_test.eval(feed_dict={X: X_test, y: y_test}))\n",
    "        \n",
    "        summary_str = sess.run(merged, feed_dict={X: X_batch, y: y_batch})\n",
    "        tf_tensorboard_writer.add_summary(summary_str, epoch) \n",
    "        save_path = saver.save(sess, MODEL_PATH + \"model3conv\")\n",
    "        \n",
    "tf_tensorboard_writer.close()\n"
   ]
  },
  {
   "cell_type": "markdown",
   "metadata": {},
   "source": [
    "# Increasing dataset with rotation and zoom"
   ]
  },
  {
   "cell_type": "code",
   "execution_count": 27,
   "metadata": {},
   "outputs": [],
   "source": [
    "def plot_image(image, shape=[28, 28]):\n",
    "    plt.imshow(image.reshape(shape), cmap=\"Greys\", interpolation=\"nearest\")\n",
    "    plt.axis(\"off\")"
   ]
  },
  {
   "cell_type": "code",
   "execution_count": 48,
   "metadata": {},
   "outputs": [
    {
     "data": {
      "image/png": "[encoded data removed]",
      "text/plain": [
       "<Figure size 576x3600 with 5 Axes>"
      ]
     },
     "metadata": {
      "needs_background": "light"
     },
     "output_type": "display_data"
    }
   ],
   "source": [
    "X_reshaped = tf.reshape(X_train, shape=[-1, height, width, channels])\n",
    "plt.figure(figsize=(8,50)) # not shown in the book\n",
    "with tf.Session() as sess:\n",
    "    X_reshaped = X_reshaped.eval()\n",
    "for iteration in range(5):\n",
    "    plt.subplot(5, 10, iteration + 1)\n",
    "    plot_image(X_reshaped[iteration])"
   ]
  },
  {
   "cell_type": "code",
   "execution_count": 50,
   "metadata": {},
   "outputs": [
    {
     "data": {
      "image/png": "[encoded data removed]",
      "text/plain": [
       "<Figure size 432x288 with 5 Axes>"
      ]
     },
     "metadata": {
      "needs_background": "light"
     },
     "output_type": "display_data"
    }
   ],
   "source": [
    "from scipy.ndimage import rotate\n",
    "for iteration in range(5):\n",
    "    plt.subplot(5, 10, iteration + 1)\n",
    "    plot_image(rotate(X_reshaped[iteration], 20, reshape=False))"
   ]
  }
 ],
 "metadata": {
  "kernelspec": {
   "display_name": "Python 3",
   "language": "python",
   "name": "python3"
  },
  "language_info": {
   "codemirror_mode": {
    "name": "ipython",
    "version": 3
   },
   "file_extension": ".py",
   "mimetype": "text/x-python",
   "name": "python",
   "nbconvert_exporter": "python",
   "pygments_lexer": "ipython3",
   "version": "3.7.3"
  }
 },
 "nbformat": 4,
 "nbformat_minor": 2
}
